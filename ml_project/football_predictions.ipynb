{
 "metadata": {
  "language_info": {
   "codemirror_mode": {
    "name": "ipython",
    "version": 3
   },
   "file_extension": ".py",
   "mimetype": "text/x-python",
   "name": "python",
   "nbconvert_exporter": "python",
   "pygments_lexer": "ipython3",
   "version": "3.8.3"
  },
  "orig_nbformat": 2,
  "kernelspec": {
   "name": "python383jvsc74a57bd0227620ee6692d3f6b7590ebc2857a5b6f6110e9c9ff8cbdcaeb862faf8e632cd",
   "display_name": "Python 3.8.3 64-bit"
  }
 },
 "nbformat": 4,
 "nbformat_minor": 2,
 "cells": [
  {
   "cell_type": "code",
   "execution_count": 1,
   "metadata": {},
   "outputs": [],
   "source": [
    "import pandas as pd \n",
    "import numpy as np \n",
    "import seaborn as sns\n",
    "import sklearn as sklearn\n",
    "import matplotlib.pyplot as plt"
   ]
  },
  {
   "cell_type": "code",
   "execution_count": 8,
   "metadata": {},
   "outputs": [],
   "source": [
    "l1_ang = pd.read_csv('./data/E0.csv')\n",
    "l1_all = pd.read_csv('./data/d1.csv')\n",
    "l1_fra = pd.read_csv('./data/F1.csv')\n",
    "l1_esp = pd.read_csv('./data/S1.csv')"
   ]
  },
  {
   "cell_type": "code",
   "execution_count": 3,
   "metadata": {},
   "outputs": [
    {
     "output_type": "execute_result",
     "data": {
      "text/plain": [
       "    Div        Date   Time        HomeTeam          AwayTeam  FTHG  FTAG FTR  \\\n",
       "0    E0  09/08/2019  20:00       Liverpool           Norwich     4     1   H   \n",
       "1    E0  10/08/2019  12:30        West Ham          Man City     0     5   A   \n",
       "2    E0  10/08/2019  15:00     Bournemouth  Sheffield United     1     1   D   \n",
       "3    E0  10/08/2019  15:00         Burnley       Southampton     3     0   H   \n",
       "4    E0  10/08/2019  15:00  Crystal Palace           Everton     0     0   D   \n",
       "..   ..         ...    ...             ...               ...   ...   ...  ..   \n",
       "375  E0  26/07/2020  16:00       Leicester        Man United     0     2   A   \n",
       "376  E0  26/07/2020  16:00        Man City           Norwich     5     0   H   \n",
       "377  E0  26/07/2020  16:00       Newcastle         Liverpool     1     3   A   \n",
       "378  E0  26/07/2020  16:00     Southampton  Sheffield United     3     1   H   \n",
       "379  E0  26/07/2020  16:00        West Ham       Aston Villa     1     1   D   \n",
       "\n",
       "     HTHG  HTAG  ... AvgC<2.5  AHCh  B365CAHH  B365CAHA  PCAHH  PCAHA  \\\n",
       "0       4     0  ...     3.43 -2.25      1.91      1.99   1.94   1.98   \n",
       "1       0     1  ...     2.91  1.75      1.95      1.95   1.96   1.97   \n",
       "2       0     0  ...     1.92 -0.50      1.95      1.95   1.98   1.95   \n",
       "3       0     0  ...     1.71  0.00      1.87      2.03   1.89   2.03   \n",
       "4       0     0  ...     1.71  0.25      1.82      2.08   1.97   1.96   \n",
       "..    ...   ...  ...      ...   ...       ...       ...    ...    ...   \n",
       "375     0     0  ...     2.03  0.50      1.89      2.01   1.88   2.05   \n",
       "376     2     0  ...     5.77 -3.75      2.03      1.87   2.01   1.88   \n",
       "377     1     1  ...     2.40  1.00      1.94      1.96   1.95   1.97   \n",
       "378     0     1  ...     2.01 -0.50      1.97      1.93   2.00   1.93   \n",
       "379     0     0  ...     2.03  0.00      1.93      1.97   1.95   1.98   \n",
       "\n",
       "     MaxCAHH  MaxCAHA  AvgCAHH  AvgCAHA  \n",
       "0       1.99     2.07     1.90     1.99  \n",
       "1       2.07     1.98     1.97     1.92  \n",
       "2       2.00     1.96     1.96     1.92  \n",
       "3       1.90     2.07     1.86     2.02  \n",
       "4       2.03     2.08     1.96     1.93  \n",
       "..       ...      ...      ...      ...  \n",
       "375     1.94     2.05     1.86     2.02  \n",
       "376     2.06     1.88     2.02     1.84  \n",
       "377     2.03     2.00     1.95     1.92  \n",
       "378     2.03     1.96     1.98     1.89  \n",
       "379     1.99     2.00     1.93     1.95  \n",
       "\n",
       "[380 rows x 106 columns]"
      ],
      "text/html": "<div>\n<style scoped>\n    .dataframe tbody tr th:only-of-type {\n        vertical-align: middle;\n    }\n\n    .dataframe tbody tr th {\n        vertical-align: top;\n    }\n\n    .dataframe thead th {\n        text-align: right;\n    }\n</style>\n<table border=\"1\" class=\"dataframe\">\n  <thead>\n    <tr style=\"text-align: right;\">\n      <th></th>\n      <th>Div</th>\n      <th>Date</th>\n      <th>Time</th>\n      <th>HomeTeam</th>\n      <th>AwayTeam</th>\n      <th>FTHG</th>\n      <th>FTAG</th>\n      <th>FTR</th>\n      <th>HTHG</th>\n      <th>HTAG</th>\n      <th>...</th>\n      <th>AvgC&lt;2.5</th>\n      <th>AHCh</th>\n      <th>B365CAHH</th>\n      <th>B365CAHA</th>\n      <th>PCAHH</th>\n      <th>PCAHA</th>\n      <th>MaxCAHH</th>\n      <th>MaxCAHA</th>\n      <th>AvgCAHH</th>\n      <th>AvgCAHA</th>\n    </tr>\n  </thead>\n  <tbody>\n    <tr>\n      <th>0</th>\n      <td>E0</td>\n      <td>09/08/2019</td>\n      <td>20:00</td>\n      <td>Liverpool</td>\n      <td>Norwich</td>\n      <td>4</td>\n      <td>1</td>\n      <td>H</td>\n      <td>4</td>\n      <td>0</td>\n      <td>...</td>\n      <td>3.43</td>\n      <td>-2.25</td>\n      <td>1.91</td>\n      <td>1.99</td>\n      <td>1.94</td>\n      <td>1.98</td>\n      <td>1.99</td>\n      <td>2.07</td>\n      <td>1.90</td>\n      <td>1.99</td>\n    </tr>\n    <tr>\n      <th>1</th>\n      <td>E0</td>\n      <td>10/08/2019</td>\n      <td>12:30</td>\n      <td>West Ham</td>\n      <td>Man City</td>\n      <td>0</td>\n      <td>5</td>\n      <td>A</td>\n      <td>0</td>\n      <td>1</td>\n      <td>...</td>\n      <td>2.91</td>\n      <td>1.75</td>\n      <td>1.95</td>\n      <td>1.95</td>\n      <td>1.96</td>\n      <td>1.97</td>\n      <td>2.07</td>\n      <td>1.98</td>\n      <td>1.97</td>\n      <td>1.92</td>\n    </tr>\n    <tr>\n      <th>2</th>\n      <td>E0</td>\n      <td>10/08/2019</td>\n      <td>15:00</td>\n      <td>Bournemouth</td>\n      <td>Sheffield United</td>\n      <td>1</td>\n      <td>1</td>\n      <td>D</td>\n      <td>0</td>\n      <td>0</td>\n      <td>...</td>\n      <td>1.92</td>\n      <td>-0.50</td>\n      <td>1.95</td>\n      <td>1.95</td>\n      <td>1.98</td>\n      <td>1.95</td>\n      <td>2.00</td>\n      <td>1.96</td>\n      <td>1.96</td>\n      <td>1.92</td>\n    </tr>\n    <tr>\n      <th>3</th>\n      <td>E0</td>\n      <td>10/08/2019</td>\n      <td>15:00</td>\n      <td>Burnley</td>\n      <td>Southampton</td>\n      <td>3</td>\n      <td>0</td>\n      <td>H</td>\n      <td>0</td>\n      <td>0</td>\n      <td>...</td>\n      <td>1.71</td>\n      <td>0.00</td>\n      <td>1.87</td>\n      <td>2.03</td>\n      <td>1.89</td>\n      <td>2.03</td>\n      <td>1.90</td>\n      <td>2.07</td>\n      <td>1.86</td>\n      <td>2.02</td>\n    </tr>\n    <tr>\n      <th>4</th>\n      <td>E0</td>\n      <td>10/08/2019</td>\n      <td>15:00</td>\n      <td>Crystal Palace</td>\n      <td>Everton</td>\n      <td>0</td>\n      <td>0</td>\n      <td>D</td>\n      <td>0</td>\n      <td>0</td>\n      <td>...</td>\n      <td>1.71</td>\n      <td>0.25</td>\n      <td>1.82</td>\n      <td>2.08</td>\n      <td>1.97</td>\n      <td>1.96</td>\n      <td>2.03</td>\n      <td>2.08</td>\n      <td>1.96</td>\n      <td>1.93</td>\n    </tr>\n    <tr>\n      <th>...</th>\n      <td>...</td>\n      <td>...</td>\n      <td>...</td>\n      <td>...</td>\n      <td>...</td>\n      <td>...</td>\n      <td>...</td>\n      <td>...</td>\n      <td>...</td>\n      <td>...</td>\n      <td>...</td>\n      <td>...</td>\n      <td>...</td>\n      <td>...</td>\n      <td>...</td>\n      <td>...</td>\n      <td>...</td>\n      <td>...</td>\n      <td>...</td>\n      <td>...</td>\n      <td>...</td>\n    </tr>\n    <tr>\n      <th>375</th>\n      <td>E0</td>\n      <td>26/07/2020</td>\n      <td>16:00</td>\n      <td>Leicester</td>\n      <td>Man United</td>\n      <td>0</td>\n      <td>2</td>\n      <td>A</td>\n      <td>0</td>\n      <td>0</td>\n      <td>...</td>\n      <td>2.03</td>\n      <td>0.50</td>\n      <td>1.89</td>\n      <td>2.01</td>\n      <td>1.88</td>\n      <td>2.05</td>\n      <td>1.94</td>\n      <td>2.05</td>\n      <td>1.86</td>\n      <td>2.02</td>\n    </tr>\n    <tr>\n      <th>376</th>\n      <td>E0</td>\n      <td>26/07/2020</td>\n      <td>16:00</td>\n      <td>Man City</td>\n      <td>Norwich</td>\n      <td>5</td>\n      <td>0</td>\n      <td>H</td>\n      <td>2</td>\n      <td>0</td>\n      <td>...</td>\n      <td>5.77</td>\n      <td>-3.75</td>\n      <td>2.03</td>\n      <td>1.87</td>\n      <td>2.01</td>\n      <td>1.88</td>\n      <td>2.06</td>\n      <td>1.88</td>\n      <td>2.02</td>\n      <td>1.84</td>\n    </tr>\n    <tr>\n      <th>377</th>\n      <td>E0</td>\n      <td>26/07/2020</td>\n      <td>16:00</td>\n      <td>Newcastle</td>\n      <td>Liverpool</td>\n      <td>1</td>\n      <td>3</td>\n      <td>A</td>\n      <td>1</td>\n      <td>1</td>\n      <td>...</td>\n      <td>2.40</td>\n      <td>1.00</td>\n      <td>1.94</td>\n      <td>1.96</td>\n      <td>1.95</td>\n      <td>1.97</td>\n      <td>2.03</td>\n      <td>2.00</td>\n      <td>1.95</td>\n      <td>1.92</td>\n    </tr>\n    <tr>\n      <th>378</th>\n      <td>E0</td>\n      <td>26/07/2020</td>\n      <td>16:00</td>\n      <td>Southampton</td>\n      <td>Sheffield United</td>\n      <td>3</td>\n      <td>1</td>\n      <td>H</td>\n      <td>0</td>\n      <td>1</td>\n      <td>...</td>\n      <td>2.01</td>\n      <td>-0.50</td>\n      <td>1.97</td>\n      <td>1.93</td>\n      <td>2.00</td>\n      <td>1.93</td>\n      <td>2.03</td>\n      <td>1.96</td>\n      <td>1.98</td>\n      <td>1.89</td>\n    </tr>\n    <tr>\n      <th>379</th>\n      <td>E0</td>\n      <td>26/07/2020</td>\n      <td>16:00</td>\n      <td>West Ham</td>\n      <td>Aston Villa</td>\n      <td>1</td>\n      <td>1</td>\n      <td>D</td>\n      <td>0</td>\n      <td>0</td>\n      <td>...</td>\n      <td>2.03</td>\n      <td>0.00</td>\n      <td>1.93</td>\n      <td>1.97</td>\n      <td>1.95</td>\n      <td>1.98</td>\n      <td>1.99</td>\n      <td>2.00</td>\n      <td>1.93</td>\n      <td>1.95</td>\n    </tr>\n  </tbody>\n</table>\n<p>380 rows × 106 columns</p>\n</div>"
     },
     "metadata": {},
     "execution_count": 3
    }
   ],
   "source": [
    "l1_ang"
   ]
  },
  {
   "cell_type": "code",
   "execution_count": 5,
   "metadata": {},
   "outputs": [
    {
     "output_type": "execute_result",
     "data": {
      "text/plain": [
       "    Div        Date   Time       HomeTeam            AwayTeam  FTHG  FTAG FTR  \\\n",
       "0    D1  16/08/2019  19:30  Bayern Munich              Hertha     2     2   D   \n",
       "1    D1  17/08/2019  14:30       Dortmund            Augsburg     5     1   H   \n",
       "2    D1  17/08/2019  14:30       Freiburg               Mainz     3     0   H   \n",
       "3    D1  17/08/2019  14:30     Leverkusen           Paderborn     3     2   H   \n",
       "4    D1  17/08/2019  14:30  Werder Bremen  Fortuna Dusseldorf     1     3   A   \n",
       "..   ..         ...    ...            ...                 ...   ...   ...  ..   \n",
       "301  D1  27/06/2020  14:30     Leverkusen               Mainz     1     0   H   \n",
       "302  D1  27/06/2020  14:30     M'gladbach              Hertha     2     1   H   \n",
       "303  D1  27/06/2020  14:30   Union Berlin  Fortuna Dusseldorf     3     0   H   \n",
       "304  D1  27/06/2020  14:30  Werder Bremen             FC Koln     6     1   H   \n",
       "305  D1  27/06/2020  14:30      Wolfsburg       Bayern Munich     0     4   A   \n",
       "\n",
       "     HTHG  HTAG  ... AvgC<2.5  AHCh  B365CAHH  B365CAHA  PCAHH  PCAHA  \\\n",
       "0       1     2  ...     3.40 -2.25      2.03      1.90   1.99   1.93   \n",
       "1       1     1  ...     3.31 -2.25      1.92      2.01   1.92   2.00   \n",
       "2       0     0  ...     1.89  0.00      1.92      2.01   1.94   1.97   \n",
       "3       2     2  ...     3.58 -2.00      2.07      1.86   2.05   1.86   \n",
       "4       0     1  ...     2.26 -0.75      1.92      2.01   1.92   2.00   \n",
       "..    ...   ...  ...      ...   ...       ...       ...    ...    ...   \n",
       "301     1     0  ...     3.50 -1.50      2.05      1.88   2.04   1.88   \n",
       "302     1     0  ...     2.68 -1.25      1.97      1.96   1.95   1.96   \n",
       "303     1     0  ...     1.86  0.50      1.75      2.05   1.81   2.13   \n",
       "304     3     0  ...     2.99 -1.00      1.90      2.03   1.93   1.98   \n",
       "305     0     2  ...     3.57  1.00      1.99      1.94   1.98   1.93   \n",
       "\n",
       "     MaxCAHH  MaxCAHA  AvgCAHH  AvgCAHA  \n",
       "0       2.04     1.93     1.98     1.91  \n",
       "1       1.98     2.04     1.91     1.97  \n",
       "2       1.97     2.06     1.90     1.99  \n",
       "3       2.15     1.91     2.03     1.85  \n",
       "4       1.95     2.11     1.89     2.00  \n",
       "..       ...      ...      ...      ...  \n",
       "301     2.09     1.97     1.99     1.89  \n",
       "302     2.00     2.05     1.93     1.95  \n",
       "303     1.84     2.15     1.80     2.07  \n",
       "304     1.97     2.05     1.89     1.98  \n",
       "305     2.04     1.98     1.97     1.90  \n",
       "\n",
       "[306 rows x 105 columns]"
      ],
      "text/html": "<div>\n<style scoped>\n    .dataframe tbody tr th:only-of-type {\n        vertical-align: middle;\n    }\n\n    .dataframe tbody tr th {\n        vertical-align: top;\n    }\n\n    .dataframe thead th {\n        text-align: right;\n    }\n</style>\n<table border=\"1\" class=\"dataframe\">\n  <thead>\n    <tr style=\"text-align: right;\">\n      <th></th>\n      <th>Div</th>\n      <th>Date</th>\n      <th>Time</th>\n      <th>HomeTeam</th>\n      <th>AwayTeam</th>\n      <th>FTHG</th>\n      <th>FTAG</th>\n      <th>FTR</th>\n      <th>HTHG</th>\n      <th>HTAG</th>\n      <th>...</th>\n      <th>AvgC&lt;2.5</th>\n      <th>AHCh</th>\n      <th>B365CAHH</th>\n      <th>B365CAHA</th>\n      <th>PCAHH</th>\n      <th>PCAHA</th>\n      <th>MaxCAHH</th>\n      <th>MaxCAHA</th>\n      <th>AvgCAHH</th>\n      <th>AvgCAHA</th>\n    </tr>\n  </thead>\n  <tbody>\n    <tr>\n      <th>0</th>\n      <td>D1</td>\n      <td>16/08/2019</td>\n      <td>19:30</td>\n      <td>Bayern Munich</td>\n      <td>Hertha</td>\n      <td>2</td>\n      <td>2</td>\n      <td>D</td>\n      <td>1</td>\n      <td>2</td>\n      <td>...</td>\n      <td>3.40</td>\n      <td>-2.25</td>\n      <td>2.03</td>\n      <td>1.90</td>\n      <td>1.99</td>\n      <td>1.93</td>\n      <td>2.04</td>\n      <td>1.93</td>\n      <td>1.98</td>\n      <td>1.91</td>\n    </tr>\n    <tr>\n      <th>1</th>\n      <td>D1</td>\n      <td>17/08/2019</td>\n      <td>14:30</td>\n      <td>Dortmund</td>\n      <td>Augsburg</td>\n      <td>5</td>\n      <td>1</td>\n      <td>H</td>\n      <td>1</td>\n      <td>1</td>\n      <td>...</td>\n      <td>3.31</td>\n      <td>-2.25</td>\n      <td>1.92</td>\n      <td>2.01</td>\n      <td>1.92</td>\n      <td>2.00</td>\n      <td>1.98</td>\n      <td>2.04</td>\n      <td>1.91</td>\n      <td>1.97</td>\n    </tr>\n    <tr>\n      <th>2</th>\n      <td>D1</td>\n      <td>17/08/2019</td>\n      <td>14:30</td>\n      <td>Freiburg</td>\n      <td>Mainz</td>\n      <td>3</td>\n      <td>0</td>\n      <td>H</td>\n      <td>0</td>\n      <td>0</td>\n      <td>...</td>\n      <td>1.89</td>\n      <td>0.00</td>\n      <td>1.92</td>\n      <td>2.01</td>\n      <td>1.94</td>\n      <td>1.97</td>\n      <td>1.97</td>\n      <td>2.06</td>\n      <td>1.90</td>\n      <td>1.99</td>\n    </tr>\n    <tr>\n      <th>3</th>\n      <td>D1</td>\n      <td>17/08/2019</td>\n      <td>14:30</td>\n      <td>Leverkusen</td>\n      <td>Paderborn</td>\n      <td>3</td>\n      <td>2</td>\n      <td>H</td>\n      <td>2</td>\n      <td>2</td>\n      <td>...</td>\n      <td>3.58</td>\n      <td>-2.00</td>\n      <td>2.07</td>\n      <td>1.86</td>\n      <td>2.05</td>\n      <td>1.86</td>\n      <td>2.15</td>\n      <td>1.91</td>\n      <td>2.03</td>\n      <td>1.85</td>\n    </tr>\n    <tr>\n      <th>4</th>\n      <td>D1</td>\n      <td>17/08/2019</td>\n      <td>14:30</td>\n      <td>Werder Bremen</td>\n      <td>Fortuna Dusseldorf</td>\n      <td>1</td>\n      <td>3</td>\n      <td>A</td>\n      <td>0</td>\n      <td>1</td>\n      <td>...</td>\n      <td>2.26</td>\n      <td>-0.75</td>\n      <td>1.92</td>\n      <td>2.01</td>\n      <td>1.92</td>\n      <td>2.00</td>\n      <td>1.95</td>\n      <td>2.11</td>\n      <td>1.89</td>\n      <td>2.00</td>\n    </tr>\n    <tr>\n      <th>...</th>\n      <td>...</td>\n      <td>...</td>\n      <td>...</td>\n      <td>...</td>\n      <td>...</td>\n      <td>...</td>\n      <td>...</td>\n      <td>...</td>\n      <td>...</td>\n      <td>...</td>\n      <td>...</td>\n      <td>...</td>\n      <td>...</td>\n      <td>...</td>\n      <td>...</td>\n      <td>...</td>\n      <td>...</td>\n      <td>...</td>\n      <td>...</td>\n      <td>...</td>\n      <td>...</td>\n    </tr>\n    <tr>\n      <th>301</th>\n      <td>D1</td>\n      <td>27/06/2020</td>\n      <td>14:30</td>\n      <td>Leverkusen</td>\n      <td>Mainz</td>\n      <td>1</td>\n      <td>0</td>\n      <td>H</td>\n      <td>1</td>\n      <td>0</td>\n      <td>...</td>\n      <td>3.50</td>\n      <td>-1.50</td>\n      <td>2.05</td>\n      <td>1.88</td>\n      <td>2.04</td>\n      <td>1.88</td>\n      <td>2.09</td>\n      <td>1.97</td>\n      <td>1.99</td>\n      <td>1.89</td>\n    </tr>\n    <tr>\n      <th>302</th>\n      <td>D1</td>\n      <td>27/06/2020</td>\n      <td>14:30</td>\n      <td>M'gladbach</td>\n      <td>Hertha</td>\n      <td>2</td>\n      <td>1</td>\n      <td>H</td>\n      <td>1</td>\n      <td>0</td>\n      <td>...</td>\n      <td>2.68</td>\n      <td>-1.25</td>\n      <td>1.97</td>\n      <td>1.96</td>\n      <td>1.95</td>\n      <td>1.96</td>\n      <td>2.00</td>\n      <td>2.05</td>\n      <td>1.93</td>\n      <td>1.95</td>\n    </tr>\n    <tr>\n      <th>303</th>\n      <td>D1</td>\n      <td>27/06/2020</td>\n      <td>14:30</td>\n      <td>Union Berlin</td>\n      <td>Fortuna Dusseldorf</td>\n      <td>3</td>\n      <td>0</td>\n      <td>H</td>\n      <td>1</td>\n      <td>0</td>\n      <td>...</td>\n      <td>1.86</td>\n      <td>0.50</td>\n      <td>1.75</td>\n      <td>2.05</td>\n      <td>1.81</td>\n      <td>2.13</td>\n      <td>1.84</td>\n      <td>2.15</td>\n      <td>1.80</td>\n      <td>2.07</td>\n    </tr>\n    <tr>\n      <th>304</th>\n      <td>D1</td>\n      <td>27/06/2020</td>\n      <td>14:30</td>\n      <td>Werder Bremen</td>\n      <td>FC Koln</td>\n      <td>6</td>\n      <td>1</td>\n      <td>H</td>\n      <td>3</td>\n      <td>0</td>\n      <td>...</td>\n      <td>2.99</td>\n      <td>-1.00</td>\n      <td>1.90</td>\n      <td>2.03</td>\n      <td>1.93</td>\n      <td>1.98</td>\n      <td>1.97</td>\n      <td>2.05</td>\n      <td>1.89</td>\n      <td>1.98</td>\n    </tr>\n    <tr>\n      <th>305</th>\n      <td>D1</td>\n      <td>27/06/2020</td>\n      <td>14:30</td>\n      <td>Wolfsburg</td>\n      <td>Bayern Munich</td>\n      <td>0</td>\n      <td>4</td>\n      <td>A</td>\n      <td>0</td>\n      <td>2</td>\n      <td>...</td>\n      <td>3.57</td>\n      <td>1.00</td>\n      <td>1.99</td>\n      <td>1.94</td>\n      <td>1.98</td>\n      <td>1.93</td>\n      <td>2.04</td>\n      <td>1.98</td>\n      <td>1.97</td>\n      <td>1.90</td>\n    </tr>\n  </tbody>\n</table>\n<p>306 rows × 105 columns</p>\n</div>"
     },
     "metadata": {},
     "execution_count": 5
    }
   ],
   "source": [
    "l1_all"
   ]
  },
  {
   "cell_type": "code",
   "execution_count": 7,
   "metadata": {},
   "outputs": [
    {
     "output_type": "execute_result",
     "data": {
      "text/plain": [
       "    Div        Date   Time    HomeTeam     AwayTeam  FTHG  FTAG FTR  HTHG  \\\n",
       "0    F1  09/08/2019  19:45      Monaco         Lyon     0     3   A     0   \n",
       "1    F1  10/08/2019  16:30   Marseille        Reims     0     2   A     0   \n",
       "2    F1  10/08/2019  19:00      Angers     Bordeaux     3     1   H     3   \n",
       "3    F1  10/08/2019  19:00       Brest     Toulouse     1     1   D     1   \n",
       "4    F1  10/08/2019  19:00       Dijon   St Etienne     1     2   A     1   \n",
       "..   ..         ...    ...         ...          ...   ...   ...  ..   ...   \n",
       "274  F1  07/03/2020  19:00        Nice       Monaco     2     1   H     0   \n",
       "275  F1  07/03/2020  19:00       Reims        Brest     1     0   H     1   \n",
       "276  F1  08/03/2020  14:00  St Etienne     Bordeaux     1     1   D     0   \n",
       "277  F1  08/03/2020  16:00      Rennes  Montpellier     5     0   H     2   \n",
       "278  F1  08/03/2020  20:00       Lille         Lyon     1     0   H     1   \n",
       "\n",
       "     HTAG  ... AvgC<2.5   AHCh  B365CAHH  B365CAHA  PCAHH  PCAHA  MaxCAHH  \\\n",
       "0       2  ...     2,01   0,25      2,04      1,86   2,01    1,9     2,06   \n",
       "1       0  ...     1,75  -0,75      2,02      1,88   2,05   1,87     2,06   \n",
       "2       1  ...     1,49  -0,25      1,75      2,05   1,79   2,15      1,8   \n",
       "3       0  ...     1,77   -0,5       2,1       1,8    2,1   1,83     2,12   \n",
       "4       2  ...     1,79   0,25      2,07      1,72   2,14   1,79     2,16   \n",
       "..    ...  ...      ...    ...       ...       ...    ...    ...      ...   \n",
       "274     1  ...     2,38   0,25      2,06      1,87   2,07   1,85     2,09   \n",
       "275     0  ...     1,54   -0,5      2,01      1,92   2,02   1,89     2,05   \n",
       "276     0  ...     1,61  -0,25      2,03       1,9      2   1,92     2,07   \n",
       "277     0  ...      1,6  -0,25      1,97      1,96   1,97   1,95        2   \n",
       "278     0  ...      1,7  -0,25      1,89      2,04   1,89   2,02     1,97   \n",
       "\n",
       "     MaxCAHA  AvgCAHH  AvgCAHA  \n",
       "0       2,01     2,01     1,87  \n",
       "1       1,97     1,98     1,89  \n",
       "2       2,17     1,77     2,11  \n",
       "3       1,83     2,08     1,79  \n",
       "4       1,82     2,09     1,79  \n",
       "..       ...      ...      ...  \n",
       "274      1,9     2,01     1,84  \n",
       "275     1,93     1,99     1,86  \n",
       "276     1,98     1,94     1,91  \n",
       "277        2     1,94     1,91  \n",
       "278     2,06     1,87     1,98  \n",
       "\n",
       "[279 rows x 105 columns]"
      ],
      "text/html": "<div>\n<style scoped>\n    .dataframe tbody tr th:only-of-type {\n        vertical-align: middle;\n    }\n\n    .dataframe tbody tr th {\n        vertical-align: top;\n    }\n\n    .dataframe thead th {\n        text-align: right;\n    }\n</style>\n<table border=\"1\" class=\"dataframe\">\n  <thead>\n    <tr style=\"text-align: right;\">\n      <th></th>\n      <th>Div</th>\n      <th>Date</th>\n      <th>Time</th>\n      <th>HomeTeam</th>\n      <th>AwayTeam</th>\n      <th>FTHG</th>\n      <th>FTAG</th>\n      <th>FTR</th>\n      <th>HTHG</th>\n      <th>HTAG</th>\n      <th>...</th>\n      <th>AvgC&lt;2.5</th>\n      <th>AHCh</th>\n      <th>B365CAHH</th>\n      <th>B365CAHA</th>\n      <th>PCAHH</th>\n      <th>PCAHA</th>\n      <th>MaxCAHH</th>\n      <th>MaxCAHA</th>\n      <th>AvgCAHH</th>\n      <th>AvgCAHA</th>\n    </tr>\n  </thead>\n  <tbody>\n    <tr>\n      <th>0</th>\n      <td>F1</td>\n      <td>09/08/2019</td>\n      <td>19:45</td>\n      <td>Monaco</td>\n      <td>Lyon</td>\n      <td>0</td>\n      <td>3</td>\n      <td>A</td>\n      <td>0</td>\n      <td>2</td>\n      <td>...</td>\n      <td>2,01</td>\n      <td>0,25</td>\n      <td>2,04</td>\n      <td>1,86</td>\n      <td>2,01</td>\n      <td>1,9</td>\n      <td>2,06</td>\n      <td>2,01</td>\n      <td>2,01</td>\n      <td>1,87</td>\n    </tr>\n    <tr>\n      <th>1</th>\n      <td>F1</td>\n      <td>10/08/2019</td>\n      <td>16:30</td>\n      <td>Marseille</td>\n      <td>Reims</td>\n      <td>0</td>\n      <td>2</td>\n      <td>A</td>\n      <td>0</td>\n      <td>0</td>\n      <td>...</td>\n      <td>1,75</td>\n      <td>-0,75</td>\n      <td>2,02</td>\n      <td>1,88</td>\n      <td>2,05</td>\n      <td>1,87</td>\n      <td>2,06</td>\n      <td>1,97</td>\n      <td>1,98</td>\n      <td>1,89</td>\n    </tr>\n    <tr>\n      <th>2</th>\n      <td>F1</td>\n      <td>10/08/2019</td>\n      <td>19:00</td>\n      <td>Angers</td>\n      <td>Bordeaux</td>\n      <td>3</td>\n      <td>1</td>\n      <td>H</td>\n      <td>3</td>\n      <td>1</td>\n      <td>...</td>\n      <td>1,49</td>\n      <td>-0,25</td>\n      <td>1,75</td>\n      <td>2,05</td>\n      <td>1,79</td>\n      <td>2,15</td>\n      <td>1,8</td>\n      <td>2,17</td>\n      <td>1,77</td>\n      <td>2,11</td>\n    </tr>\n    <tr>\n      <th>3</th>\n      <td>F1</td>\n      <td>10/08/2019</td>\n      <td>19:00</td>\n      <td>Brest</td>\n      <td>Toulouse</td>\n      <td>1</td>\n      <td>1</td>\n      <td>D</td>\n      <td>1</td>\n      <td>0</td>\n      <td>...</td>\n      <td>1,77</td>\n      <td>-0,5</td>\n      <td>2,1</td>\n      <td>1,8</td>\n      <td>2,1</td>\n      <td>1,83</td>\n      <td>2,12</td>\n      <td>1,83</td>\n      <td>2,08</td>\n      <td>1,79</td>\n    </tr>\n    <tr>\n      <th>4</th>\n      <td>F1</td>\n      <td>10/08/2019</td>\n      <td>19:00</td>\n      <td>Dijon</td>\n      <td>St Etienne</td>\n      <td>1</td>\n      <td>2</td>\n      <td>A</td>\n      <td>1</td>\n      <td>2</td>\n      <td>...</td>\n      <td>1,79</td>\n      <td>0,25</td>\n      <td>2,07</td>\n      <td>1,72</td>\n      <td>2,14</td>\n      <td>1,79</td>\n      <td>2,16</td>\n      <td>1,82</td>\n      <td>2,09</td>\n      <td>1,79</td>\n    </tr>\n    <tr>\n      <th>...</th>\n      <td>...</td>\n      <td>...</td>\n      <td>...</td>\n      <td>...</td>\n      <td>...</td>\n      <td>...</td>\n      <td>...</td>\n      <td>...</td>\n      <td>...</td>\n      <td>...</td>\n      <td>...</td>\n      <td>...</td>\n      <td>...</td>\n      <td>...</td>\n      <td>...</td>\n      <td>...</td>\n      <td>...</td>\n      <td>...</td>\n      <td>...</td>\n      <td>...</td>\n      <td>...</td>\n    </tr>\n    <tr>\n      <th>274</th>\n      <td>F1</td>\n      <td>07/03/2020</td>\n      <td>19:00</td>\n      <td>Nice</td>\n      <td>Monaco</td>\n      <td>2</td>\n      <td>1</td>\n      <td>H</td>\n      <td>0</td>\n      <td>1</td>\n      <td>...</td>\n      <td>2,38</td>\n      <td>0,25</td>\n      <td>2,06</td>\n      <td>1,87</td>\n      <td>2,07</td>\n      <td>1,85</td>\n      <td>2,09</td>\n      <td>1,9</td>\n      <td>2,01</td>\n      <td>1,84</td>\n    </tr>\n    <tr>\n      <th>275</th>\n      <td>F1</td>\n      <td>07/03/2020</td>\n      <td>19:00</td>\n      <td>Reims</td>\n      <td>Brest</td>\n      <td>1</td>\n      <td>0</td>\n      <td>H</td>\n      <td>1</td>\n      <td>0</td>\n      <td>...</td>\n      <td>1,54</td>\n      <td>-0,5</td>\n      <td>2,01</td>\n      <td>1,92</td>\n      <td>2,02</td>\n      <td>1,89</td>\n      <td>2,05</td>\n      <td>1,93</td>\n      <td>1,99</td>\n      <td>1,86</td>\n    </tr>\n    <tr>\n      <th>276</th>\n      <td>F1</td>\n      <td>08/03/2020</td>\n      <td>14:00</td>\n      <td>St Etienne</td>\n      <td>Bordeaux</td>\n      <td>1</td>\n      <td>1</td>\n      <td>D</td>\n      <td>0</td>\n      <td>0</td>\n      <td>...</td>\n      <td>1,61</td>\n      <td>-0,25</td>\n      <td>2,03</td>\n      <td>1,9</td>\n      <td>2</td>\n      <td>1,92</td>\n      <td>2,07</td>\n      <td>1,98</td>\n      <td>1,94</td>\n      <td>1,91</td>\n    </tr>\n    <tr>\n      <th>277</th>\n      <td>F1</td>\n      <td>08/03/2020</td>\n      <td>16:00</td>\n      <td>Rennes</td>\n      <td>Montpellier</td>\n      <td>5</td>\n      <td>0</td>\n      <td>H</td>\n      <td>2</td>\n      <td>0</td>\n      <td>...</td>\n      <td>1,6</td>\n      <td>-0,25</td>\n      <td>1,97</td>\n      <td>1,96</td>\n      <td>1,97</td>\n      <td>1,95</td>\n      <td>2</td>\n      <td>2</td>\n      <td>1,94</td>\n      <td>1,91</td>\n    </tr>\n    <tr>\n      <th>278</th>\n      <td>F1</td>\n      <td>08/03/2020</td>\n      <td>20:00</td>\n      <td>Lille</td>\n      <td>Lyon</td>\n      <td>1</td>\n      <td>0</td>\n      <td>H</td>\n      <td>1</td>\n      <td>0</td>\n      <td>...</td>\n      <td>1,7</td>\n      <td>-0,25</td>\n      <td>1,89</td>\n      <td>2,04</td>\n      <td>1,89</td>\n      <td>2,02</td>\n      <td>1,97</td>\n      <td>2,06</td>\n      <td>1,87</td>\n      <td>1,98</td>\n    </tr>\n  </tbody>\n</table>\n<p>279 rows × 105 columns</p>\n</div>"
     },
     "metadata": {},
     "execution_count": 7
    }
   ],
   "source": [
    "l1_fra"
   ]
  },
  {
   "cell_type": "code",
   "execution_count": 9,
   "metadata": {},
   "outputs": [
    {
     "output_type": "execute_result",
     "data": {
      "text/plain": [
       "     Div        Date   Time     HomeTeam     AwayTeam  FTHG  FTAG FTR  HTHG  \\\n",
       "0    SP1  16/08/2019  20:00   Ath Bilbao    Barcelona     1     0   H     0   \n",
       "1    SP1  17/08/2019  16:00        Celta  Real Madrid     1     3   A     0   \n",
       "2    SP1  17/08/2019  18:00     Valencia     Sociedad     1     1   D     0   \n",
       "3    SP1  17/08/2019  19:00     Mallorca        Eibar     2     1   H     1   \n",
       "4    SP1  17/08/2019  20:00      Leganes      Osasuna     0     1   A     0   \n",
       "..   ...         ...    ...          ...          ...   ...   ...  ..   ...   \n",
       "325  SP1  01/07/2020  21:00        Betis   Villarreal     0     2   A     0   \n",
       "326  SP1  01/07/2020  21:00   Valladolid      Levante     0     0   D     0   \n",
       "327  SP1  02/07/2020  18:30        Eibar      Osasuna     0     2   A     0   \n",
       "328  SP1  02/07/2020  18:30     Sociedad      Espanol     2     1   H     0   \n",
       "329  SP1  02/07/2020  21:00  Real Madrid       Getafe     1     0   H     0   \n",
       "\n",
       "     HTAG  ... AvgC<2.5   AHCh  B365CAHH  B365CAHA  PCAHH  PCAHA  MaxCAHH  \\\n",
       "0       0  ...     1,97   0,75      1,93         2   1,91   2,01     2,02   \n",
       "1       1  ...     2,63      1      1,82      1,97   1,85   2,07        2   \n",
       "2       0  ...     1,82  -0,75      1,94      1,99   1,92      2     1,96   \n",
       "3       0  ...     1,66      0      2,11      1,82   2,09   1,83     2,12   \n",
       "4       0  ...     1,46   -0,5      1,89      2,04    1,9   2,01     1,95   \n",
       "..    ...  ...      ...    ...       ...       ...    ...    ...      ...   \n",
       "325     2  ...     2,15   0,25      1,72      2,07   1,79   2,15     1,83   \n",
       "326     0  ...      1,8  -0,25      2,06      1,87   2,06   1,86     2,09   \n",
       "327     1  ...     1,65  -0,25      2,02      1,91   2,05   1,87     2,06   \n",
       "328     1  ...      1,7  -0,75      2,11      1,82   2,12   1,81     2,14   \n",
       "329     0  ...     1,74     -1      1,89      2,04   1,88   2,04     1,94   \n",
       "\n",
       "     MaxCAHA  AvgCAHH  AvgCAHA  \n",
       "0       2,03     1,91     1,98  \n",
       "1        2,2     1,82     2,06  \n",
       "2       2,12     1,89        2  \n",
       "3       1,88     2,07     1,83  \n",
       "4       2,06      1,9     1,99  \n",
       "..       ...      ...      ...  \n",
       "325     2,16     1,78      2,1  \n",
       "326     1,92     2,01     1,87  \n",
       "327     1,92        2     1,88  \n",
       "328     1,85     2,08     1,81  \n",
       "329     2,13     1,85     2,03  \n",
       "\n",
       "[330 rows x 105 columns]"
      ],
      "text/html": "<div>\n<style scoped>\n    .dataframe tbody tr th:only-of-type {\n        vertical-align: middle;\n    }\n\n    .dataframe tbody tr th {\n        vertical-align: top;\n    }\n\n    .dataframe thead th {\n        text-align: right;\n    }\n</style>\n<table border=\"1\" class=\"dataframe\">\n  <thead>\n    <tr style=\"text-align: right;\">\n      <th></th>\n      <th>Div</th>\n      <th>Date</th>\n      <th>Time</th>\n      <th>HomeTeam</th>\n      <th>AwayTeam</th>\n      <th>FTHG</th>\n      <th>FTAG</th>\n      <th>FTR</th>\n      <th>HTHG</th>\n      <th>HTAG</th>\n      <th>...</th>\n      <th>AvgC&lt;2.5</th>\n      <th>AHCh</th>\n      <th>B365CAHH</th>\n      <th>B365CAHA</th>\n      <th>PCAHH</th>\n      <th>PCAHA</th>\n      <th>MaxCAHH</th>\n      <th>MaxCAHA</th>\n      <th>AvgCAHH</th>\n      <th>AvgCAHA</th>\n    </tr>\n  </thead>\n  <tbody>\n    <tr>\n      <th>0</th>\n      <td>SP1</td>\n      <td>16/08/2019</td>\n      <td>20:00</td>\n      <td>Ath Bilbao</td>\n      <td>Barcelona</td>\n      <td>1</td>\n      <td>0</td>\n      <td>H</td>\n      <td>0</td>\n      <td>0</td>\n      <td>...</td>\n      <td>1,97</td>\n      <td>0,75</td>\n      <td>1,93</td>\n      <td>2</td>\n      <td>1,91</td>\n      <td>2,01</td>\n      <td>2,02</td>\n      <td>2,03</td>\n      <td>1,91</td>\n      <td>1,98</td>\n    </tr>\n    <tr>\n      <th>1</th>\n      <td>SP1</td>\n      <td>17/08/2019</td>\n      <td>16:00</td>\n      <td>Celta</td>\n      <td>Real Madrid</td>\n      <td>1</td>\n      <td>3</td>\n      <td>A</td>\n      <td>0</td>\n      <td>1</td>\n      <td>...</td>\n      <td>2,63</td>\n      <td>1</td>\n      <td>1,82</td>\n      <td>1,97</td>\n      <td>1,85</td>\n      <td>2,07</td>\n      <td>2</td>\n      <td>2,2</td>\n      <td>1,82</td>\n      <td>2,06</td>\n    </tr>\n    <tr>\n      <th>2</th>\n      <td>SP1</td>\n      <td>17/08/2019</td>\n      <td>18:00</td>\n      <td>Valencia</td>\n      <td>Sociedad</td>\n      <td>1</td>\n      <td>1</td>\n      <td>D</td>\n      <td>0</td>\n      <td>0</td>\n      <td>...</td>\n      <td>1,82</td>\n      <td>-0,75</td>\n      <td>1,94</td>\n      <td>1,99</td>\n      <td>1,92</td>\n      <td>2</td>\n      <td>1,96</td>\n      <td>2,12</td>\n      <td>1,89</td>\n      <td>2</td>\n    </tr>\n    <tr>\n      <th>3</th>\n      <td>SP1</td>\n      <td>17/08/2019</td>\n      <td>19:00</td>\n      <td>Mallorca</td>\n      <td>Eibar</td>\n      <td>2</td>\n      <td>1</td>\n      <td>H</td>\n      <td>1</td>\n      <td>0</td>\n      <td>...</td>\n      <td>1,66</td>\n      <td>0</td>\n      <td>2,11</td>\n      <td>1,82</td>\n      <td>2,09</td>\n      <td>1,83</td>\n      <td>2,12</td>\n      <td>1,88</td>\n      <td>2,07</td>\n      <td>1,83</td>\n    </tr>\n    <tr>\n      <th>4</th>\n      <td>SP1</td>\n      <td>17/08/2019</td>\n      <td>20:00</td>\n      <td>Leganes</td>\n      <td>Osasuna</td>\n      <td>0</td>\n      <td>1</td>\n      <td>A</td>\n      <td>0</td>\n      <td>0</td>\n      <td>...</td>\n      <td>1,46</td>\n      <td>-0,5</td>\n      <td>1,89</td>\n      <td>2,04</td>\n      <td>1,9</td>\n      <td>2,01</td>\n      <td>1,95</td>\n      <td>2,06</td>\n      <td>1,9</td>\n      <td>1,99</td>\n    </tr>\n    <tr>\n      <th>...</th>\n      <td>...</td>\n      <td>...</td>\n      <td>...</td>\n      <td>...</td>\n      <td>...</td>\n      <td>...</td>\n      <td>...</td>\n      <td>...</td>\n      <td>...</td>\n      <td>...</td>\n      <td>...</td>\n      <td>...</td>\n      <td>...</td>\n      <td>...</td>\n      <td>...</td>\n      <td>...</td>\n      <td>...</td>\n      <td>...</td>\n      <td>...</td>\n      <td>...</td>\n      <td>...</td>\n    </tr>\n    <tr>\n      <th>325</th>\n      <td>SP1</td>\n      <td>01/07/2020</td>\n      <td>21:00</td>\n      <td>Betis</td>\n      <td>Villarreal</td>\n      <td>0</td>\n      <td>2</td>\n      <td>A</td>\n      <td>0</td>\n      <td>2</td>\n      <td>...</td>\n      <td>2,15</td>\n      <td>0,25</td>\n      <td>1,72</td>\n      <td>2,07</td>\n      <td>1,79</td>\n      <td>2,15</td>\n      <td>1,83</td>\n      <td>2,16</td>\n      <td>1,78</td>\n      <td>2,1</td>\n    </tr>\n    <tr>\n      <th>326</th>\n      <td>SP1</td>\n      <td>01/07/2020</td>\n      <td>21:00</td>\n      <td>Valladolid</td>\n      <td>Levante</td>\n      <td>0</td>\n      <td>0</td>\n      <td>D</td>\n      <td>0</td>\n      <td>0</td>\n      <td>...</td>\n      <td>1,8</td>\n      <td>-0,25</td>\n      <td>2,06</td>\n      <td>1,87</td>\n      <td>2,06</td>\n      <td>1,86</td>\n      <td>2,09</td>\n      <td>1,92</td>\n      <td>2,01</td>\n      <td>1,87</td>\n    </tr>\n    <tr>\n      <th>327</th>\n      <td>SP1</td>\n      <td>02/07/2020</td>\n      <td>18:30</td>\n      <td>Eibar</td>\n      <td>Osasuna</td>\n      <td>0</td>\n      <td>2</td>\n      <td>A</td>\n      <td>0</td>\n      <td>1</td>\n      <td>...</td>\n      <td>1,65</td>\n      <td>-0,25</td>\n      <td>2,02</td>\n      <td>1,91</td>\n      <td>2,05</td>\n      <td>1,87</td>\n      <td>2,06</td>\n      <td>1,92</td>\n      <td>2</td>\n      <td>1,88</td>\n    </tr>\n    <tr>\n      <th>328</th>\n      <td>SP1</td>\n      <td>02/07/2020</td>\n      <td>18:30</td>\n      <td>Sociedad</td>\n      <td>Espanol</td>\n      <td>2</td>\n      <td>1</td>\n      <td>H</td>\n      <td>0</td>\n      <td>1</td>\n      <td>...</td>\n      <td>1,7</td>\n      <td>-0,75</td>\n      <td>2,11</td>\n      <td>1,82</td>\n      <td>2,12</td>\n      <td>1,81</td>\n      <td>2,14</td>\n      <td>1,85</td>\n      <td>2,08</td>\n      <td>1,81</td>\n    </tr>\n    <tr>\n      <th>329</th>\n      <td>SP1</td>\n      <td>02/07/2020</td>\n      <td>21:00</td>\n      <td>Real Madrid</td>\n      <td>Getafe</td>\n      <td>1</td>\n      <td>0</td>\n      <td>H</td>\n      <td>0</td>\n      <td>0</td>\n      <td>...</td>\n      <td>1,74</td>\n      <td>-1</td>\n      <td>1,89</td>\n      <td>2,04</td>\n      <td>1,88</td>\n      <td>2,04</td>\n      <td>1,94</td>\n      <td>2,13</td>\n      <td>1,85</td>\n      <td>2,03</td>\n    </tr>\n  </tbody>\n</table>\n<p>330 rows × 105 columns</p>\n</div>"
     },
     "metadata": {},
     "execution_count": 9
    }
   ],
   "source": [
    "l1_esp"
   ]
  },
  {
   "cell_type": "code",
   "execution_count": 11,
   "metadata": {},
   "outputs": [],
   "source": [
    "globale_data = pd.concat([l1_all, l1_ang,l1_esp, l1_fra])"
   ]
  },
  {
   "cell_type": "code",
   "execution_count": 12,
   "metadata": {},
   "outputs": [
    {
     "output_type": "execute_result",
     "data": {
      "text/plain": [
       "    Div        Date   Time       HomeTeam            AwayTeam  FTHG  FTAG FTR  \\\n",
       "0    D1  16/08/2019  19:30  Bayern Munich              Hertha     2     2   D   \n",
       "1    D1  17/08/2019  14:30       Dortmund            Augsburg     5     1   H   \n",
       "2    D1  17/08/2019  14:30       Freiburg               Mainz     3     0   H   \n",
       "3    D1  17/08/2019  14:30     Leverkusen           Paderborn     3     2   H   \n",
       "4    D1  17/08/2019  14:30  Werder Bremen  Fortuna Dusseldorf     1     3   A   \n",
       "..   ..         ...    ...            ...                 ...   ...   ...  ..   \n",
       "274  F1  07/03/2020  19:00           Nice              Monaco     2     1   H   \n",
       "275  F1  07/03/2020  19:00          Reims               Brest     1     0   H   \n",
       "276  F1  08/03/2020  14:00     St Etienne            Bordeaux     1     1   D   \n",
       "277  F1  08/03/2020  16:00         Rennes         Montpellier     5     0   H   \n",
       "278  F1  08/03/2020  20:00          Lille                Lyon     1     0   H   \n",
       "\n",
       "     HTHG  HTAG  ...   AHCh  B365CAHH  B365CAHA  PCAHH  PCAHA  MaxCAHH  \\\n",
       "0       1     2  ...  -2.25      2.03      1.90   1.99   1.93     2.04   \n",
       "1       1     1  ...  -2.25      1.92      2.01   1.92   2.00     1.98   \n",
       "2       0     0  ...   0.00      1.92      2.01   1.94   1.97     1.97   \n",
       "3       2     2  ...  -2.00      2.07      1.86   2.05   1.86     2.15   \n",
       "4       0     1  ...  -0.75      1.92      2.01   1.92   2.00     1.95   \n",
       "..    ...   ...  ...    ...       ...       ...    ...    ...      ...   \n",
       "274     0     1  ...   0,25      2,06      1,87   2,07   1,85     2,09   \n",
       "275     1     0  ...   -0,5      2,01      1,92   2,02   1,89     2,05   \n",
       "276     0     0  ...  -0,25      2,03       1,9      2   1,92     2,07   \n",
       "277     2     0  ...  -0,25      1,97      1,96   1,97   1,95        2   \n",
       "278     1     0  ...  -0,25      1,89      2,04   1,89   2,02     1,97   \n",
       "\n",
       "     MaxCAHA  AvgCAHH  AvgCAHA  Referee  \n",
       "0       1.93     1.98     1.91      NaN  \n",
       "1       2.04     1.91     1.97      NaN  \n",
       "2       2.06     1.90     1.99      NaN  \n",
       "3       1.91     2.03     1.85      NaN  \n",
       "4       2.11     1.89     2.00      NaN  \n",
       "..       ...      ...      ...      ...  \n",
       "274      1,9     2,01     1,84      NaN  \n",
       "275     1,93     1,99     1,86      NaN  \n",
       "276     1,98     1,94     1,91      NaN  \n",
       "277        2     1,94     1,91      NaN  \n",
       "278     2,06     1,87     1,98      NaN  \n",
       "\n",
       "[1295 rows x 106 columns]"
      ],
      "text/html": "<div>\n<style scoped>\n    .dataframe tbody tr th:only-of-type {\n        vertical-align: middle;\n    }\n\n    .dataframe tbody tr th {\n        vertical-align: top;\n    }\n\n    .dataframe thead th {\n        text-align: right;\n    }\n</style>\n<table border=\"1\" class=\"dataframe\">\n  <thead>\n    <tr style=\"text-align: right;\">\n      <th></th>\n      <th>Div</th>\n      <th>Date</th>\n      <th>Time</th>\n      <th>HomeTeam</th>\n      <th>AwayTeam</th>\n      <th>FTHG</th>\n      <th>FTAG</th>\n      <th>FTR</th>\n      <th>HTHG</th>\n      <th>HTAG</th>\n      <th>...</th>\n      <th>AHCh</th>\n      <th>B365CAHH</th>\n      <th>B365CAHA</th>\n      <th>PCAHH</th>\n      <th>PCAHA</th>\n      <th>MaxCAHH</th>\n      <th>MaxCAHA</th>\n      <th>AvgCAHH</th>\n      <th>AvgCAHA</th>\n      <th>Referee</th>\n    </tr>\n  </thead>\n  <tbody>\n    <tr>\n      <th>0</th>\n      <td>D1</td>\n      <td>16/08/2019</td>\n      <td>19:30</td>\n      <td>Bayern Munich</td>\n      <td>Hertha</td>\n      <td>2</td>\n      <td>2</td>\n      <td>D</td>\n      <td>1</td>\n      <td>2</td>\n      <td>...</td>\n      <td>-2.25</td>\n      <td>2.03</td>\n      <td>1.90</td>\n      <td>1.99</td>\n      <td>1.93</td>\n      <td>2.04</td>\n      <td>1.93</td>\n      <td>1.98</td>\n      <td>1.91</td>\n      <td>NaN</td>\n    </tr>\n    <tr>\n      <th>1</th>\n      <td>D1</td>\n      <td>17/08/2019</td>\n      <td>14:30</td>\n      <td>Dortmund</td>\n      <td>Augsburg</td>\n      <td>5</td>\n      <td>1</td>\n      <td>H</td>\n      <td>1</td>\n      <td>1</td>\n      <td>...</td>\n      <td>-2.25</td>\n      <td>1.92</td>\n      <td>2.01</td>\n      <td>1.92</td>\n      <td>2.00</td>\n      <td>1.98</td>\n      <td>2.04</td>\n      <td>1.91</td>\n      <td>1.97</td>\n      <td>NaN</td>\n    </tr>\n    <tr>\n      <th>2</th>\n      <td>D1</td>\n      <td>17/08/2019</td>\n      <td>14:30</td>\n      <td>Freiburg</td>\n      <td>Mainz</td>\n      <td>3</td>\n      <td>0</td>\n      <td>H</td>\n      <td>0</td>\n      <td>0</td>\n      <td>...</td>\n      <td>0.00</td>\n      <td>1.92</td>\n      <td>2.01</td>\n      <td>1.94</td>\n      <td>1.97</td>\n      <td>1.97</td>\n      <td>2.06</td>\n      <td>1.90</td>\n      <td>1.99</td>\n      <td>NaN</td>\n    </tr>\n    <tr>\n      <th>3</th>\n      <td>D1</td>\n      <td>17/08/2019</td>\n      <td>14:30</td>\n      <td>Leverkusen</td>\n      <td>Paderborn</td>\n      <td>3</td>\n      <td>2</td>\n      <td>H</td>\n      <td>2</td>\n      <td>2</td>\n      <td>...</td>\n      <td>-2.00</td>\n      <td>2.07</td>\n      <td>1.86</td>\n      <td>2.05</td>\n      <td>1.86</td>\n      <td>2.15</td>\n      <td>1.91</td>\n      <td>2.03</td>\n      <td>1.85</td>\n      <td>NaN</td>\n    </tr>\n    <tr>\n      <th>4</th>\n      <td>D1</td>\n      <td>17/08/2019</td>\n      <td>14:30</td>\n      <td>Werder Bremen</td>\n      <td>Fortuna Dusseldorf</td>\n      <td>1</td>\n      <td>3</td>\n      <td>A</td>\n      <td>0</td>\n      <td>1</td>\n      <td>...</td>\n      <td>-0.75</td>\n      <td>1.92</td>\n      <td>2.01</td>\n      <td>1.92</td>\n      <td>2.00</td>\n      <td>1.95</td>\n      <td>2.11</td>\n      <td>1.89</td>\n      <td>2.00</td>\n      <td>NaN</td>\n    </tr>\n    <tr>\n      <th>...</th>\n      <td>...</td>\n      <td>...</td>\n      <td>...</td>\n      <td>...</td>\n      <td>...</td>\n      <td>...</td>\n      <td>...</td>\n      <td>...</td>\n      <td>...</td>\n      <td>...</td>\n      <td>...</td>\n      <td>...</td>\n      <td>...</td>\n      <td>...</td>\n      <td>...</td>\n      <td>...</td>\n      <td>...</td>\n      <td>...</td>\n      <td>...</td>\n      <td>...</td>\n      <td>...</td>\n    </tr>\n    <tr>\n      <th>274</th>\n      <td>F1</td>\n      <td>07/03/2020</td>\n      <td>19:00</td>\n      <td>Nice</td>\n      <td>Monaco</td>\n      <td>2</td>\n      <td>1</td>\n      <td>H</td>\n      <td>0</td>\n      <td>1</td>\n      <td>...</td>\n      <td>0,25</td>\n      <td>2,06</td>\n      <td>1,87</td>\n      <td>2,07</td>\n      <td>1,85</td>\n      <td>2,09</td>\n      <td>1,9</td>\n      <td>2,01</td>\n      <td>1,84</td>\n      <td>NaN</td>\n    </tr>\n    <tr>\n      <th>275</th>\n      <td>F1</td>\n      <td>07/03/2020</td>\n      <td>19:00</td>\n      <td>Reims</td>\n      <td>Brest</td>\n      <td>1</td>\n      <td>0</td>\n      <td>H</td>\n      <td>1</td>\n      <td>0</td>\n      <td>...</td>\n      <td>-0,5</td>\n      <td>2,01</td>\n      <td>1,92</td>\n      <td>2,02</td>\n      <td>1,89</td>\n      <td>2,05</td>\n      <td>1,93</td>\n      <td>1,99</td>\n      <td>1,86</td>\n      <td>NaN</td>\n    </tr>\n    <tr>\n      <th>276</th>\n      <td>F1</td>\n      <td>08/03/2020</td>\n      <td>14:00</td>\n      <td>St Etienne</td>\n      <td>Bordeaux</td>\n      <td>1</td>\n      <td>1</td>\n      <td>D</td>\n      <td>0</td>\n      <td>0</td>\n      <td>...</td>\n      <td>-0,25</td>\n      <td>2,03</td>\n      <td>1,9</td>\n      <td>2</td>\n      <td>1,92</td>\n      <td>2,07</td>\n      <td>1,98</td>\n      <td>1,94</td>\n      <td>1,91</td>\n      <td>NaN</td>\n    </tr>\n    <tr>\n      <th>277</th>\n      <td>F1</td>\n      <td>08/03/2020</td>\n      <td>16:00</td>\n      <td>Rennes</td>\n      <td>Montpellier</td>\n      <td>5</td>\n      <td>0</td>\n      <td>H</td>\n      <td>2</td>\n      <td>0</td>\n      <td>...</td>\n      <td>-0,25</td>\n      <td>1,97</td>\n      <td>1,96</td>\n      <td>1,97</td>\n      <td>1,95</td>\n      <td>2</td>\n      <td>2</td>\n      <td>1,94</td>\n      <td>1,91</td>\n      <td>NaN</td>\n    </tr>\n    <tr>\n      <th>278</th>\n      <td>F1</td>\n      <td>08/03/2020</td>\n      <td>20:00</td>\n      <td>Lille</td>\n      <td>Lyon</td>\n      <td>1</td>\n      <td>0</td>\n      <td>H</td>\n      <td>1</td>\n      <td>0</td>\n      <td>...</td>\n      <td>-0,25</td>\n      <td>1,89</td>\n      <td>2,04</td>\n      <td>1,89</td>\n      <td>2,02</td>\n      <td>1,97</td>\n      <td>2,06</td>\n      <td>1,87</td>\n      <td>1,98</td>\n      <td>NaN</td>\n    </tr>\n  </tbody>\n</table>\n<p>1295 rows × 106 columns</p>\n</div>"
     },
     "metadata": {},
     "execution_count": 12
    }
   ],
   "source": [
    "globale_data"
   ]
  },
  {
   "cell_type": "code",
   "execution_count": null,
   "metadata": {},
   "outputs": [],
   "source": []
  }
 ]
}